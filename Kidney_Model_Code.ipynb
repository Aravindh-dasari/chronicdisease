{
  "nbformat": 4,
  "nbformat_minor": 0,
  "metadata": {
    "colab": {
      "name": "Kidney_Model_Code.ipynb",
      "provenance": [],
      "mount_file_id": "1RHN7mQC_9yXn_7hOz4tgRmTvm_ymP9Jp",
      "authorship_tag": "ABX9TyNG6ZIbBzEk1oyVzeEj2lNf",
      "include_colab_link": true
    },
    "kernelspec": {
      "name": "python3",
      "display_name": "Python 3"
    },
    "language_info": {
      "name": "python"
    }
  },
  "cells": [
    {
      "cell_type": "markdown",
      "metadata": {
        "id": "view-in-github",
        "colab_type": "text"
      },
      "source": [
        "<a href=\"https://colab.research.google.com/github/Aravindh-dasari/chronicdisease/blob/Kidney/Kidney_Model_Code.ipynb\" target=\"_parent\"><img src=\"https://colab.research.google.com/assets/colab-badge.svg\" alt=\"Open In Colab\"/></a>"
      ]
    },
    {
      "cell_type": "code",
      "execution_count": 1,
      "metadata": {
        "id": "bSZNpXPqwbIH"
      },
      "outputs": [],
      "source": [
        "import numpy as np\n",
        "import pandas as pd\n",
        "from sklearn import ensemble\n",
        "from sklearn.model_selection import train_test_split\n",
        "from sklearn.metrics import accuracy_score, classification_report, confusion_matrix\n",
        "from sklearn.linear_model import LogisticRegression\n",
        "from sklearn.neighbors import KNeighborsClassifier\n",
        "from sklearn.tree import DecisionTreeClassifier\n",
        "from sklearn.svm import LinearSVC, SVC\n",
        "from sklearn.neural_network import MLPClassifier\n",
        "from sklearn.ensemble import RandomForestClassifier, GradientBoostingClassifier\n",
        "\n",
        "import joblib"
      ]
    },
    {
      "cell_type": "code",
      "source": [
        "df = pd.read_csv(\"/content/drive/MyDrive/Chronic_Project/kidney.csv\")"
      ],
      "metadata": {
        "id": "gPobMx4rwi3W"
      },
      "execution_count": 2,
      "outputs": []
    },
    {
      "cell_type": "code",
      "source": [
        "df[['htn','dm','cad','pe','ane']] = df[['htn','dm','cad','pe','ane']].replace(to_replace={'yes':1,'no':0})\n",
        "df[['rbc','pc']] = df[['rbc','pc']].replace(to_replace={'abnormal':1,'normal':0})\n",
        "df[['pcc','ba']] = df[['pcc','ba']].replace(to_replace={'present':1,'notpresent':0})\n",
        "df[['appet']] = df[['appet']].replace(to_replace={'good':1,'poor':0,'no':np.nan})\n",
        "df['classification'] = df['classification'].replace(to_replace={'ckd':1.0,'ckd\\t':1.0,'notckd':0.0,'no':0.0})\n",
        "df.rename(columns={'classification':'class'},inplace=True)\n",
        "df['pe'] = df['pe'].replace(to_replace='good',value=0)\n",
        "df['appet'] = df['appet'].replace(to_replace='no',value=0)\n",
        "df['cad'] = df['cad'].replace(to_replace='\\tno',value=0)\n",
        "df['dm'] = df['dm'].replace(to_replace={'\\tno':0,'\\tyes':1,' yes':1, '':np.nan})\n",
        "\n",
        "df.drop('id',axis=1,inplace=True)\n",
        "df = df.dropna(axis=0)"
      ],
      "metadata": {
        "id": "622V5nNawycl"
      },
      "execution_count": 3,
      "outputs": []
    },
    {
      "cell_type": "code",
      "source": [
        "cols = ['bp', 'sg', 'al', 'su', 'rbc', 'pc', 'pcc']\n",
        "X = df[cols]\n",
        "y = df['class']\n",
        "X_train, X_test, y_train, y_test = train_test_split(X, y, test_size = 0.33, random_state=44, stratify= y)\n",
        "print('Shape training set: X:{}, y:{}'.format(X_train.shape, y_train.shape))\n",
        "print('Shape test set: X:{}, y:{}'.format(X_test.shape, y_test.shape))"
      ],
      "metadata": {
        "colab": {
          "base_uri": "https://localhost:8080/"
        },
        "id": "oU6slo98w17N",
        "outputId": "1176f1d9-db55-4821-ccf3-088bd0d0ff90"
      },
      "execution_count": 4,
      "outputs": [
        {
          "output_type": "stream",
          "name": "stdout",
          "text": [
            "Shape training set: X:(105, 7), y:(105,)\n",
            "Shape test set: X:(53, 7), y:(53,)\n"
          ]
        }
      ]
    },
    {
      "cell_type": "code",
      "source": [
        "models = {\n",
        "    \"                   Logistic Regression\": LogisticRegression(),\n",
        "    \"                   K-Nearest Neighbors\": KNeighborsClassifier(),\n",
        "    \"                         Decision Tree\": DecisionTreeClassifier(),\n",
        "    \"Support Vector Machine (Linear Kernel)\": LinearSVC(max_iter=1500),\n",
        "    \"   Support Vector Machine (RBF Kernel)\": SVC(max_iter=1500),\n",
        "    \"                        Neural Network\": MLPClassifier(max_iter=2500),\n",
        "    \"                         Random Forest\": RandomForestClassifier(),\n",
        "    \"                     Gradient Boosting\": GradientBoostingClassifier()\n",
        "}\n",
        "\n",
        "for name, model in models.items():\n",
        "    model.fit(X_train, y_train)\n",
        "    print(name + \" trained.\")\n",
        "print('--------------------------------')"
      ],
      "metadata": {
        "colab": {
          "base_uri": "https://localhost:8080/"
        },
        "id": "xSS2OqpJw5-S",
        "outputId": "876d9975-948f-450d-b883-688e70ff3625"
      },
      "execution_count": 5,
      "outputs": [
        {
          "output_type": "stream",
          "name": "stdout",
          "text": [
            "                   Logistic Regression trained.\n",
            "                   K-Nearest Neighbors trained.\n",
            "                         Decision Tree trained.\n",
            "Support Vector Machine (Linear Kernel) trained.\n",
            "   Support Vector Machine (RBF Kernel) trained.\n",
            "                        Neural Network trained.\n"
          ]
        },
        {
          "output_type": "stream",
          "name": "stderr",
          "text": [
            "/usr/local/lib/python3.7/dist-packages/sklearn/svm/_base.py:1208: ConvergenceWarning: Liblinear failed to converge, increase the number of iterations.\n",
            "  ConvergenceWarning,\n"
          ]
        },
        {
          "output_type": "stream",
          "name": "stdout",
          "text": [
            "                         Random Forest trained.\n",
            "                     Gradient Boosting trained.\n",
            "--------------------------------\n"
          ]
        }
      ]
    },
    {
      "cell_type": "code",
      "source": [
        "for name, model in models.items():\n",
        "  print(name + \": {:.2f}%\".format(model.score(X_test, y_test) * 100))\n",
        "print(\"------------------------------\")"
      ],
      "metadata": {
        "colab": {
          "base_uri": "https://localhost:8080/"
        },
        "id": "TqWaICUgw--q",
        "outputId": "09db3eaa-2634-4337-ad5c-fbf37fe5d45e"
      },
      "execution_count": 6,
      "outputs": [
        {
          "output_type": "stream",
          "name": "stdout",
          "text": [
            "                   Logistic Regression: 96.23%\n",
            "                   K-Nearest Neighbors: 96.23%\n",
            "                         Decision Tree: 98.11%\n",
            "Support Vector Machine (Linear Kernel): 96.23%\n",
            "   Support Vector Machine (RBF Kernel): 73.58%\n",
            "                        Neural Network: 73.58%\n",
            "                         Random Forest: 98.11%\n",
            "                     Gradient Boosting: 98.11%\n",
            "------------------------------\n"
          ]
        }
      ]
    },
    {
      "cell_type": "code",
      "source": [
        "Random_Forest = models[\"                         Random Forest\"]"
      ],
      "metadata": {
        "id": "LbUbsIPFxDYY"
      },
      "execution_count": 7,
      "outputs": []
    },
    {
      "cell_type": "code",
      "source": [
        "pred = Random_Forest.predict(X_test)\n",
        "\n",
        "cm = confusion_matrix(y_test,pred)\n",
        "print(cm)\n",
        "\n",
        "print(\"Accuracy:\", accuracy_score(y_test,pred))\n",
        "print(classification_report(y_test,pred))"
      ],
      "metadata": {
        "colab": {
          "base_uri": "https://localhost:8080/"
        },
        "id": "HwQS2oCjxNxW",
        "outputId": "7fa5a7c9-1d62-4777-99a4-9da7d80fa2b7"
      },
      "execution_count": 9,
      "outputs": [
        {
          "output_type": "stream",
          "name": "stdout",
          "text": [
            "[[39  0]\n",
            " [ 1 13]]\n",
            "Accuracy: 0.9811320754716981\n",
            "              precision    recall  f1-score   support\n",
            "\n",
            "         0.0       0.97      1.00      0.99        39\n",
            "         1.0       1.00      0.93      0.96        14\n",
            "\n",
            "    accuracy                           0.98        53\n",
            "   macro avg       0.99      0.96      0.98        53\n",
            "weighted avg       0.98      0.98      0.98        53\n",
            "\n"
          ]
        }
      ]
    },
    {
      "cell_type": "code",
      "source": [
        "joblib.dump(model,r\"/content/drive/MyDrive/Chrnoic_Models/kidney_model.pkl\")"
      ],
      "metadata": {
        "colab": {
          "base_uri": "https://localhost:8080/"
        },
        "id": "Kkgn6IDAxR3E",
        "outputId": "35d82579-0e02-47c3-892b-88798ce45cd0"
      },
      "execution_count": 10,
      "outputs": [
        {
          "output_type": "execute_result",
          "data": {
            "text/plain": [
              "['/content/drive/MyDrive/Chrnoic_Models/kidney_model.pkl']"
            ]
          },
          "metadata": {},
          "execution_count": 10
        }
      ]
    }
  ]
}