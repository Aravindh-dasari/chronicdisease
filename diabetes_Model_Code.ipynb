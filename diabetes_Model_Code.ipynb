{
  "nbformat": 4,
  "nbformat_minor": 0,
  "metadata": {
    "colab": {
      "name": "diabetes_Model_Code.ipynb",
      "provenance": [],
      "mount_file_id": "1IveEd2VU4aDr9UMaMVYtdKSh5JPNE9IR",
      "authorship_tag": "ABX9TyPRkwyqqX2RYJv8W77TH77E",
      "include_colab_link": true
    },
    "kernelspec": {
      "name": "python3",
      "display_name": "Python 3"
    },
    "language_info": {
      "name": "python"
    }
  },
  "cells": [
    {
      "cell_type": "markdown",
      "metadata": {
        "id": "view-in-github",
        "colab_type": "text"
      },
      "source": [
        "<a href=\"https://colab.research.google.com/github/Aravindh-dasari/chronicdisease/blob/diabetes/diabetes_Model_Code.ipynb\" target=\"_parent\"><img src=\"https://colab.research.google.com/assets/colab-badge.svg\" alt=\"Open In Colab\"/></a>"
      ]
    },
    {
      "cell_type": "code",
      "source": [
        "import numpy as np\n",
        "import pandas as pd\n",
        "from sklearn import ensemble\n",
        "from sklearn.model_selection import train_test_split\n",
        "from sklearn.metrics import accuracy_score, classification_report, confusion_matrix\n",
        "from sklearn.linear_model import LogisticRegression\n",
        "from sklearn.neighbors import KNeighborsClassifier\n",
        "from sklearn.tree import DecisionTreeClassifier\n",
        "from sklearn.svm import LinearSVC, SVC\n",
        "from sklearn.neural_network import MLPClassifier\n",
        "from sklearn.ensemble import RandomForestClassifier, GradientBoostingClassifier\n",
        "\n",
        "import joblib"
      ],
      "metadata": {
        "id": "eFybU9dSn2Nw"
      },
      "execution_count": 11,
      "outputs": []
    },
    {
      "cell_type": "code",
      "source": [
        "df = pd.read_csv(r\"/content/drive/MyDrive/Chronic_Project/diabetes.csv\")"
      ],
      "metadata": {
        "id": "5kERmP7fn8km"
      },
      "execution_count": 2,
      "outputs": []
    },
    {
      "cell_type": "code",
      "execution_count": 3,
      "metadata": {
        "id": "n1pGOcQvnbhU"
      },
      "outputs": [],
      "source": [
        "df['Glucose'].replace(0, np.nan, inplace=True)\n",
        "df['BloodPressure'].replace(0, np.nan, inplace=True)\n",
        "df['SkinThickness'].replace(0, np.nan, inplace=True)\n",
        "df['Insulin'].replace(0, np.nan, inplace=True)\n",
        "df['BMI'].replace(0, np.nan, inplace=True)\n",
        "df.drop(['SkinThickness' ,'Insulin'], axis=1, inplace=True)\n",
        "df = df.dropna(axis=0)\n",
        "\n",
        "cols = ['Pregnancies', 'Glucose', 'BloodPressure', 'BMI',\n",
        "       'DiabetesPedigreeFunction', 'Age', 'Outcome']\n",
        "\n",
        "df_outcome_1 = df[df['Outcome'] == 1].copy()\n",
        "i = len(df_outcome_1)\n",
        "df_outcome_0 = df[df['Outcome'] == 0].sample(i, random_state=1)\n",
        "df_balanced = df_outcome_0.append(df_outcome_1)\n",
        "df_balanced = df[cols]"
      ]
    },
    {
      "cell_type": "code",
      "source": [
        "X = df_balanced.drop('Outcome', axis=1)\n",
        "y = df_balanced['Outcome']\n",
        "X_train, X_test, y_train, y_test = train_test_split(X, y, test_size=0.2\n",
        "                                                    , stratify=y, random_state=1)\n",
        "print('Shape training set: X:{}, y:{}'.format(X_train.shape, y_train.shape))\n",
        "print('Shape test set: X:{}, y:{}'.format(X_test.shape, y_test.shape))"
      ],
      "metadata": {
        "colab": {
          "base_uri": "https://localhost:8080/"
        },
        "id": "MI3O7YA1oHTT",
        "outputId": "6eb223bc-e1d4-4254-ba32-1bcd82911cc0"
      },
      "execution_count": 9,
      "outputs": [
        {
          "output_type": "stream",
          "name": "stdout",
          "text": [
            "Shape training set: X:(579, 6), y:(579,)\n",
            "Shape test set: X:(145, 6), y:(145,)\n"
          ]
        }
      ]
    },
    {
      "cell_type": "code",
      "source": [
        "models = {\n",
        "    \"                   Logistic Regression\": LogisticRegression(),\n",
        "    \"                   K-Nearest Neighbors\": KNeighborsClassifier(),\n",
        "    \"                         Decision Tree\": DecisionTreeClassifier(),\n",
        "    \"Support Vector Machine (Linear Kernel)\": LinearSVC(max_iter=1500),\n",
        "    \"   Support Vector Machine (RBF Kernel)\": SVC(max_iter=1500),\n",
        "    \"                        Neural Network\": MLPClassifier(max_iter=2500),\n",
        "    \"                         Random Forest\": RandomForestClassifier(),\n",
        "    \"                     Gradient Boosting\": GradientBoostingClassifier()\n",
        "}\n",
        "\n",
        "for name, model in models.items():\n",
        "    model.fit(X_train, y_train)\n",
        "    print(name + \" trained.\")\n",
        "print('--------------------------------')\n",
        "\n",
        "# model = ensemble.RandomForestClassifier()\n",
        "# model.fit(X_train, y_train)\n",
        "# y_pred = model.predict(X_test)\n",
        "# print('Accuracy : {}'.format(accuracy_score(y_test, y_pred)))\n",
        "\n",
        "# clf_report = classification_report(y_test, y_pred)\n",
        "# print('Classification report')\n",
        "# print(\"---------------------\")\n",
        "# print(clf_report)\n",
        "# print(\"_____________________\")\n",
        "\n",
        "# joblib.dump(model,r\"/content/drive/MyDrive/Chrnoic_Models/diabetes_model.pkl\")"
      ],
      "metadata": {
        "colab": {
          "base_uri": "https://localhost:8080/"
        },
        "id": "IfvV0Ioeo-TR",
        "outputId": "8a113e91-d727-41ce-9cd9-7dc8b55d67ed"
      },
      "execution_count": 21,
      "outputs": [
        {
          "output_type": "stream",
          "name": "stdout",
          "text": [
            "                   Logistic Regression trained.\n",
            "                   K-Nearest Neighbors trained.\n",
            "                         Decision Tree trained.\n",
            "Support Vector Machine (Linear Kernel) trained.\n",
            "   Support Vector Machine (RBF Kernel) trained.\n"
          ]
        },
        {
          "output_type": "stream",
          "name": "stderr",
          "text": [
            "/usr/local/lib/python3.7/dist-packages/sklearn/svm/_base.py:1208: ConvergenceWarning: Liblinear failed to converge, increase the number of iterations.\n",
            "  ConvergenceWarning,\n"
          ]
        },
        {
          "output_type": "stream",
          "name": "stdout",
          "text": [
            "                        Neural Network trained.\n",
            "                         Random Forest trained.\n",
            "                     Gradient Boosting trained.\n",
            "--------------------------------\n"
          ]
        }
      ]
    },
    {
      "cell_type": "code",
      "source": [
        "for name, model in models.items():\n",
        "  print(name + \": {:.2f}%\".format(model.score(X_test, y_test) * 100))\n",
        "print(\"------------------------------\")"
      ],
      "metadata": {
        "colab": {
          "base_uri": "https://localhost:8080/"
        },
        "id": "9QTVd2SkrXgB",
        "outputId": "b950da65-08a2-40b3-894c-0e2237fdb42c"
      },
      "execution_count": 22,
      "outputs": [
        {
          "output_type": "stream",
          "name": "stdout",
          "text": [
            "                   Logistic Regression: 72.41%\n",
            "                   K-Nearest Neighbors: 68.28%\n",
            "                         Decision Tree: 71.03%\n",
            "Support Vector Machine (Linear Kernel): 40.69%\n",
            "   Support Vector Machine (RBF Kernel): 75.17%\n",
            "                        Neural Network: 70.34%\n",
            "                         Random Forest: 75.17%\n",
            "                     Gradient Boosting: 77.24%\n",
            "------------------------------\n"
          ]
        }
      ]
    },
    {
      "cell_type": "code",
      "source": [
        "svm = models[\"   Support Vector Machine (RBF Kernel)\"]"
      ],
      "metadata": {
        "id": "o_F27o2Grugy"
      },
      "execution_count": 23,
      "outputs": []
    },
    {
      "cell_type": "code",
      "source": [
        "pred = svm.predict(X_test)\n",
        "\n",
        "cm = confusion_matrix(y_test,pred)\n",
        "print(cm)\n",
        "\n",
        "print(\"Accuracy:\", accuracy_score(y_test,pred))\n",
        "print(classification_report(y_test,pred))"
      ],
      "metadata": {
        "colab": {
          "base_uri": "https://localhost:8080/"
        },
        "id": "8QyG3_e3tHbn",
        "outputId": "2326b27e-8889-48ac-aaf9-a2380a78fce3"
      },
      "execution_count": 24,
      "outputs": [
        {
          "output_type": "stream",
          "name": "stdout",
          "text": [
            "[[85 10]\n",
            " [26 24]]\n",
            "Accuracy: 0.7517241379310344\n",
            "              precision    recall  f1-score   support\n",
            "\n",
            "           0       0.77      0.89      0.83        95\n",
            "           1       0.71      0.48      0.57        50\n",
            "\n",
            "    accuracy                           0.75       145\n",
            "   macro avg       0.74      0.69      0.70       145\n",
            "weighted avg       0.75      0.75      0.74       145\n",
            "\n"
          ]
        }
      ]
    },
    {
      "cell_type": "code",
      "source": [
        "joblib.dump(model,r\"/content/drive/MyDrive/Chrnoic_Models/diabetes_model.pkl\")"
      ],
      "metadata": {
        "colab": {
          "base_uri": "https://localhost:8080/"
        },
        "id": "SHGBD6UotM2w",
        "outputId": "1b70b098-9796-4cf4-88a9-176cd3fed0f9"
      },
      "execution_count": 25,
      "outputs": [
        {
          "output_type": "execute_result",
          "data": {
            "text/plain": [
              "['/content/drive/MyDrive/Chrnoic_Models/diabetes_model.pkl']"
            ]
          },
          "metadata": {},
          "execution_count": 25
        }
      ]
    }
  ]
}