{
  "nbformat": 4,
  "nbformat_minor": 0,
  "metadata": {
    "colab": {
      "name": "heart_Model_Code.ipynb",
      "provenance": [],
      "mount_file_id": "1MudT-nN77ryZKriHyEbP7vB3Fq3oBaDL",
      "authorship_tag": "ABX9TyPNZtNuh2HvaTezXXFgrDmz",
      "include_colab_link": true
    },
    "kernelspec": {
      "name": "python3",
      "display_name": "Python 3"
    },
    "language_info": {
      "name": "python"
    }
  },
  "cells": [
    {
      "cell_type": "markdown",
      "metadata": {
        "id": "view-in-github",
        "colab_type": "text"
      },
      "source": [
        "<a href=\"https://colab.research.google.com/github/Aravindh-dasari/chronicdisease/blob/heart/heart_Model_Code.ipynb\" target=\"_parent\"><img src=\"https://colab.research.google.com/assets/colab-badge.svg\" alt=\"Open In Colab\"/></a>"
      ]
    },
    {
      "cell_type": "code",
      "execution_count": 1,
      "metadata": {
        "id": "m2us5l7puAZ4"
      },
      "outputs": [],
      "source": [
        "import numpy as np\n",
        "import pandas as pd\n",
        "from sklearn import ensemble\n",
        "from sklearn.model_selection import train_test_split\n",
        "from sklearn.metrics import accuracy_score, classification_report, confusion_matrix\n",
        "from sklearn.linear_model import LogisticRegression\n",
        "from sklearn.neighbors import KNeighborsClassifier\n",
        "from sklearn.tree import DecisionTreeClassifier\n",
        "from sklearn.svm import LinearSVC, SVC\n",
        "from sklearn.neural_network import MLPClassifier\n",
        "from sklearn.ensemble import RandomForestClassifier, GradientBoostingClassifier\n",
        "\n",
        "import joblib"
      ]
    },
    {
      "cell_type": "code",
      "source": [
        "df = pd.read_csv(\"/content/drive/MyDrive/Chronic_Project/heart.csv\")"
      ],
      "metadata": {
        "id": "wO8arjP-ufk_"
      },
      "execution_count": 2,
      "outputs": []
    },
    {
      "cell_type": "code",
      "source": [
        "categorical_val = []\n",
        "continous_val = []\n",
        "for column in df.columns:\n",
        "    if len(df[column].unique()) <= 10:\n",
        "        categorical_val.append(column)\n",
        "    else:\n",
        "        continous_val.append(column)\n",
        "\n",
        "categorical_val.remove('target')\n",
        "dataset = pd.get_dummies(df, columns = categorical_val)"
      ],
      "metadata": {
        "id": "NxD0XK4kuvHc"
      },
      "execution_count": 3,
      "outputs": []
    },
    {
      "cell_type": "code",
      "source": [
        "cols = ['cp', 'trestbps', 'chol', 'fbs', 'restecg', 'thalach', 'exang']       \n",
        "X = df[cols]\n",
        "y = dataset.target\n",
        "\n",
        "X_train, X_test, y_train, y_test = train_test_split(X, y, test_size=0.3, random_state=42)\n",
        "\n",
        "print('Shape training set: X:{}, y:{}'.format(X_train.shape, y_train.shape))\n",
        "print('Shape test set: X:{}, y:{}'.format(X_test.shape, y_test.shape))"
      ],
      "metadata": {
        "colab": {
          "base_uri": "https://localhost:8080/"
        },
        "id": "mXRyAS5mu4UY",
        "outputId": "34911476-5d2d-4d42-f7a5-8285da40cd6b"
      },
      "execution_count": 4,
      "outputs": [
        {
          "output_type": "stream",
          "name": "stdout",
          "text": [
            "Shape training set: X:(212, 7), y:(212,)\n",
            "Shape test set: X:(91, 7), y:(91,)\n"
          ]
        }
      ]
    },
    {
      "cell_type": "code",
      "source": [
        "models = {\n",
        "    \"                   Logistic Regression\": LogisticRegression(max_iter=1500),\n",
        "    \"                   K-Nearest Neighbors\": KNeighborsClassifier(),\n",
        "    \"                         Decision Tree\": DecisionTreeClassifier(),\n",
        "    \"Support Vector Machine (Linear Kernel)\": LinearSVC(max_iter=1500),\n",
        "    \"   Support Vector Machine (RBF Kernel)\": SVC(max_iter=1500),\n",
        "    \"                        Neural Network\": MLPClassifier(max_iter=2500),\n",
        "    \"                         Random Forest\": RandomForestClassifier(),\n",
        "    \"                     Gradient Boosting\": GradientBoostingClassifier()\n",
        "}\n",
        "\n",
        "for name, model in models.items():\n",
        "    model.fit(X_train, y_train)\n",
        "    print(name + \" trained.\")\n",
        "print('--------------------------------')"
      ],
      "metadata": {
        "colab": {
          "base_uri": "https://localhost:8080/"
        },
        "id": "kFGfDjdYu8F0",
        "outputId": "f9b55cb4-da35-44b6-8e3e-c203db1e89d0"
      },
      "execution_count": 9,
      "outputs": [
        {
          "output_type": "stream",
          "name": "stdout",
          "text": [
            "                   Logistic Regression trained.\n",
            "                   K-Nearest Neighbors trained.\n",
            "                         Decision Tree trained.\n",
            "Support Vector Machine (Linear Kernel) trained.\n",
            "   Support Vector Machine (RBF Kernel) trained.\n",
            "                        Neural Network trained.\n"
          ]
        },
        {
          "output_type": "stream",
          "name": "stderr",
          "text": [
            "/usr/local/lib/python3.7/dist-packages/sklearn/svm/_base.py:1208: ConvergenceWarning: Liblinear failed to converge, increase the number of iterations.\n",
            "  ConvergenceWarning,\n"
          ]
        },
        {
          "output_type": "stream",
          "name": "stdout",
          "text": [
            "                         Random Forest trained.\n",
            "                     Gradient Boosting trained.\n",
            "--------------------------------\n"
          ]
        }
      ]
    },
    {
      "cell_type": "code",
      "source": [
        "for name, model in models.items():\n",
        "  print(name + \": {:.2f}%\".format(model.score(X_test, y_test) * 100))\n",
        "print(\"------------------------------\")"
      ],
      "metadata": {
        "colab": {
          "base_uri": "https://localhost:8080/"
        },
        "id": "bAEW6oebvHpT",
        "outputId": "879c0c09-71ee-4d2f-bde0-6fc6cb3fb8be"
      },
      "execution_count": 10,
      "outputs": [
        {
          "output_type": "stream",
          "name": "stdout",
          "text": [
            "                   Logistic Regression: 79.12%\n",
            "                   K-Nearest Neighbors: 64.84%\n",
            "                         Decision Tree: 58.24%\n",
            "Support Vector Machine (Linear Kernel): 62.64%\n",
            "   Support Vector Machine (RBF Kernel): 69.23%\n",
            "                        Neural Network: 67.03%\n",
            "                         Random Forest: 75.82%\n",
            "                     Gradient Boosting: 73.63%\n",
            "------------------------------\n"
          ]
        }
      ]
    },
    {
      "cell_type": "code",
      "source": [
        "LogisticRg = models[\"                   Logistic Regression\"]"
      ],
      "metadata": {
        "id": "4ewaz6G1vO0l"
      },
      "execution_count": 12,
      "outputs": []
    },
    {
      "cell_type": "code",
      "source": [
        "pred = LogisticRg.predict(X_test)\n",
        "\n",
        "cm = confusion_matrix(y_test,pred)\n",
        "print(cm)\n",
        "\n",
        "print(\"Accuracy:\", accuracy_score(y_test,pred))\n",
        "print(classification_report(y_test,pred))"
      ],
      "metadata": {
        "colab": {
          "base_uri": "https://localhost:8080/"
        },
        "id": "HZkMsdagvpZg",
        "outputId": "01d57b5d-f1d4-47f6-9a27-d2e07ee3a09f"
      },
      "execution_count": 14,
      "outputs": [
        {
          "output_type": "stream",
          "name": "stdout",
          "text": [
            "[[31 10]\n",
            " [ 9 41]]\n",
            "Accuracy: 0.7912087912087912\n",
            "              precision    recall  f1-score   support\n",
            "\n",
            "           0       0.78      0.76      0.77        41\n",
            "           1       0.80      0.82      0.81        50\n",
            "\n",
            "    accuracy                           0.79        91\n",
            "   macro avg       0.79      0.79      0.79        91\n",
            "weighted avg       0.79      0.79      0.79        91\n",
            "\n"
          ]
        }
      ]
    },
    {
      "cell_type": "code",
      "source": [
        "joblib.dump(model,r\"/content/drive/MyDrive/Chrnoic_Models/heart_model.pkl\")"
      ],
      "metadata": {
        "colab": {
          "base_uri": "https://localhost:8080/"
        },
        "id": "FdVEB-z3v3Tk",
        "outputId": "48a3ac4e-0343-4454-83f4-0a465735f26c"
      },
      "execution_count": 15,
      "outputs": [
        {
          "output_type": "execute_result",
          "data": {
            "text/plain": [
              "['/content/drive/MyDrive/Chrnoic_Models/heart_model.pkl']"
            ]
          },
          "metadata": {},
          "execution_count": 15
        }
      ]
    }
  ]
}